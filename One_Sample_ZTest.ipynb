{
  "nbformat": 4,
  "nbformat_minor": 0,
  "metadata": {
    "colab": {
      "name": "One-Sample-ZTest.ipynb",
      "provenance": [],
      "authorship_tag": "ABX9TyOVeO3S9tkMRuacMYb93I+b",
      "include_colab_link": true
    },
    "kernelspec": {
      "name": "python3",
      "display_name": "Python 3"
    },
    "language_info": {
      "name": "python"
    }
  },
  "cells": [
    {
      "cell_type": "markdown",
      "metadata": {
        "id": "view-in-github",
        "colab_type": "text"
      },
      "source": [
        "<a href=\"https://colab.research.google.com/github/p4arth/Statistics/blob/main/One_Sample_ZTest.ipynb\" target=\"_parent\"><img src=\"https://colab.research.google.com/assets/colab-badge.svg\" alt=\"Open In Colab\"/></a>"
      ]
    },
    {
      "cell_type": "code",
      "execution_count": 2,
      "metadata": {
        "id": "i-3H9Rkwj1Pj"
      },
      "outputs": [],
      "source": [
        "import numpy as np\n",
        "import scipy.stats as st"
      ]
    },
    {
      "cell_type": "code",
      "source": [
        "class ztest():\n",
        "  # in one sample z test, we are a given:\n",
        "  # --- the standard deviation of the population\n",
        "  # --- the mean of the population\n",
        "  # --- the Observed Test statistic\n",
        "  # --- the significance level\n",
        "  # --- the sample size\n",
        "\n",
        "  # There are three types of z-test\n",
        "  # --- 1. Right tail: H_0: mu = x; H_a: mu > x\n",
        "  # --- 2. Left tail: H_0: mu = x; H_a: mu < x\n",
        "  # --- 3. Two tail: H_0: mu = x; H_a: mu != x\n",
        "  def __init__(self, population_mean, population_dev, test_statistic, significance_level, sample_size):\n",
        "    self.population_mean = population_mean\n",
        "    self.population_dev = population_dev\n",
        "    self.test_statistic = test_statistic\n",
        "    self.significance_level = significance_level\n",
        "    self.sample_size = sample_size\n",
        "\n",
        "  def right_tail(self):\n",
        "    critical_value = (st.norm.ppf(1- self.significance_level)*(self.population_dev/(self.sample_size**0.5))) + self.population_mean\n",
        "    print(f'The critical value is: {critical_value}')\n",
        "    if self.test_statistic > critical_value:\n",
        "      return 'Reject the Null Hypothesis'\n",
        "    return 'Fail to Reject the Null Hypothesis'\n",
        "\n",
        "  def left_tail(self):\n",
        "    critical_value = (st.norm.ppf(self.significance_level)*(self.population_dev/(self.sample_size**0.5))) + self.population_mean\n",
        "    print(f'The critical value is: {critical_value}')\n",
        "    if self.test_statistic > critical_value:\n",
        "      return 'Reject the Null Hypothesis'\n",
        "    return 'Fail to Reject the Null Hypothesis'\n",
        "  \n",
        "  def two_tail(self):\n",
        "    critical_value = ((st.norm.ppf(self.significance_level)/2)*(self.population_dev/(self.sample_size**0.5))) + self.population_mean\n",
        "    print(f'The critical value is: {critical_value}')\n",
        "    if abs(self.test_statistic) > critical_value:\n",
        "      return 'Reject the Null Hypothesis'\n",
        "    return 'Fail to Reject the Null Hypothesis'\n",
        "    "
      ],
      "metadata": {
        "id": "qj_TVy3nj-D9"
      },
      "execution_count": 17,
      "outputs": []
    },
    {
      "cell_type": "code",
      "source": [
        "ztest(50, 2, 51.3, 0.05, 25).right_tail()"
      ],
      "metadata": {
        "colab": {
          "base_uri": "https://localhost:8080/",
          "height": 53
        },
        "id": "pSddrgRsmy0u",
        "outputId": "3e06507f-5538-4570-aa1e-6f9958eb012d"
      },
      "execution_count": 18,
      "outputs": [
        {
          "output_type": "stream",
          "name": "stdout",
          "text": [
            "The critical value is: 50.65794145078059\n"
          ]
        },
        {
          "output_type": "execute_result",
          "data": {
            "application/vnd.google.colaboratory.intrinsic+json": {
              "type": "string"
            },
            "text/plain": [
              "'Reject the Null Hypothesis'"
            ]
          },
          "metadata": {},
          "execution_count": 18
        }
      ]
    }
  ]
}