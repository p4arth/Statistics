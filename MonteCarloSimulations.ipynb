{
  "nbformat": 4,
  "nbformat_minor": 0,
  "metadata": {
    "colab": {
      "name": "MonteCarloSimulations.ipynb",
      "provenance": [],
      "authorship_tag": "ABX9TyMBa94gjgp/3fyXK4YaIaDC",
      "include_colab_link": true
    },
    "kernelspec": {
      "name": "python3",
      "display_name": "Python 3"
    },
    "language_info": {
      "name": "python"
    }
  },
  "cells": [
    {
      "cell_type": "markdown",
      "metadata": {
        "id": "view-in-github",
        "colab_type": "text"
      },
      "source": [
        "<a href=\"https://colab.research.google.com/github/p4arth/Statistics/blob/main/MonteCarloSimulations.ipynb\" target=\"_parent\"><img src=\"https://colab.research.google.com/assets/colab-badge.svg\" alt=\"Open In Colab\"/></a>"
      ]
    },
    {
      "cell_type": "code",
      "metadata": {
        "id": "eCdXGbU40gIj"
      },
      "source": [
        "# importing libraries \n",
        "import matplotlib.pyplot as plt\n",
        "import matplotlib.cm as cm\n",
        "import matplotlib.axes as ax\n",
        "%matplotlib inline"
      ],
      "execution_count": 42,
      "outputs": []
    },
    {
      "cell_type": "code",
      "metadata": {
        "id": "zfFGCibFC0u4"
      },
      "source": [
        "# Defining a factorial function for later\n",
        "def factorial(n):\n",
        "  if n <= 1:\n",
        "    return 1\n",
        "  else:\n",
        "    return n * factorial(n-1)"
      ],
      "execution_count": 1,
      "outputs": []
    },
    {
      "cell_type": "code",
      "metadata": {
        "id": "W5-CuI8cxjhS"
      },
      "source": [
        "# Defining a function to get the Binomial Distribution \"P(X = x)\"\n",
        "def GetBinomial(n,p):\n",
        "  l = []\n",
        "  for i in range(n+1):\n",
        "    x = ((factorial(n))/((factorial(i) * factorial(n-i)))) * (p**i) * ((1-p)**(n-i))\n",
        "    l.append(x)\n",
        "  return l"
      ],
      "execution_count": 13,
      "outputs": []
    },
    {
      "cell_type": "code",
      "metadata": {
        "id": "064JVeWtyPUC"
      },
      "source": [
        "# Defining a function to get the \"X\" values\n",
        "def GetXCoordinates(n):\n",
        "  l2 = []\n",
        "  for i in range(n+1):\n",
        "    l2.append(i)\n",
        "  return l2"
      ],
      "execution_count": 40,
      "outputs": []
    },
    {
      "cell_type": "markdown",
      "metadata": {
        "id": "q0ZZeQJqNPdM"
      },
      "source": [
        "# **Experiment 1**: Tossing a coin 100 number of times to observe the distribution of number of heads "
      ]
    },
    {
      "cell_type": "code",
      "metadata": {
        "colab": {
          "base_uri": "https://localhost:8080/",
          "height": 294
        },
        "id": "sb0zACjjHs9_",
        "outputId": "1a40e436-fe8d-4ffe-854e-21e3af7d2e51"
      },
      "source": [
        "# x and y values\n",
        "x_values = GetXCoordinates(100)\n",
        "y_values = GetBinomial(100,0.5)\n",
        "\n",
        "# Plotting the figure\n",
        "plt.figure(figsize=(10,4))\n",
        "plt.bar(x_values,y_values)\n",
        "plt.xlabel('X')\n",
        "plt.ylabel('P(X = x)')\n",
        "plt.ticklabel_format(style='plain')\n",
        "plt.title('Binomial Distribution')\n",
        "plt.show()"
      ],
      "execution_count": 41,
      "outputs": [
        {
          "output_type": "display_data",
          "data": {
            "image/png": "[encoded data removed]",
            "text/plain": [
              "<Figure size 720x288 with 1 Axes>"
            ]
          },
          "metadata": {
            "needs_background": "light"
          }
        }
      ]
    },
    {
      "cell_type": "markdown",
      "metadata": {
        "id": "1SAiFlFEQSEC"
      },
      "source": [
        "### As learned in theory the E[X] or the expected value of the number of heads we get in a fair coin toss as the number of tosses tend to 100 is around 50"
      ]
    },
    {
      "cell_type": "markdown",
      "metadata": {
        "id": "12gUbnWgQXzt"
      },
      "source": [
        "##**Experiment 2**: A Factory manufactures 100 guns our of which 10 guns are defective, if a random person buys 5 guns from the shop what is the probability distribution of the number of defective guns he can recieve."
      ]
    },
    {
      "cell_type": "code",
      "metadata": {
        "colab": {
          "base_uri": "https://localhost:8080/",
          "height": 330
        },
        "id": "LZDiv-0PNIo5",
        "outputId": "f92120c4-0d89-4d4a-e9a8-6cd299cc8b9e"
      },
      "source": [
        "# x and y values\n",
        "x_values = GetXCoordinates(5)\n",
        "y_values = GetBinomial(5,0.1)\n",
        " \n",
        "# Plotting the figure\n",
        "plt.figure(figsize=(10,4))\n",
        "plt.bar(x_values,y_values)\n",
        "plt.xlabel('X')\n",
        "plt.ylabel('P(X = x)')\n",
        "plt.ticklabel_format(style='plain')\n",
        "plt.title('Binomial Distribution')\n",
        "plt.show()"
      ],
      "execution_count": 43,
      "outputs": [
        {
          "output_type": "stream",
          "name": "stdout",
          "text": [
            "[0.5904900000000001, 0.32805, 0.07290000000000002, 0.008100000000000001, 0.0004500000000000001, 1.0000000000000003e-05]\n",
            "[0, 1, 2, 3, 4, 5]\n"
          ]
        },
        {
          "output_type": "display_data",
          "data": {
            "image/png": "[encoded data removed]",
            "text/plain": [
              "<Figure size 720x288 with 1 Axes>"
            ]
          },
          "metadata": {
            "needs_background": "light"
          }
        }
      ]
    },
    {
      "cell_type": "markdown",
      "metadata": {
        "id": "StwvWwMJRHL_"
      },
      "source": [
        "##We observe that the graph is skewed towards the left as the probability of success is less than 0.5, which matches with what we have learned in theory."
      ]
    }
  ]
}