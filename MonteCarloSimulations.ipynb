{
  "nbformat": 4,
  "nbformat_minor": 0,
  "metadata": {
    "colab": {
      "name": "MonteCarloSimulations.ipynb",
      "provenance": [],
      "authorship_tag": "ABX9TyOWl4LJ3i5XXYx+Ly6o1x+a",
      "include_colab_link": true
    },
    "kernelspec": {
      "name": "python3",
      "display_name": "Python 3"
    },
    "language_info": {
      "name": "python"
    }
  },
  "cells": [
    {
      "cell_type": "markdown",
      "metadata": {
        "id": "view-in-github",
        "colab_type": "text"
      },
      "source": [
        "<a href=\"https://colab.research.google.com/github/p4arth/Statistics/blob/main/MonteCarloSimulations.ipynb\" target=\"_parent\"><img src=\"https://colab.research.google.com/assets/colab-badge.svg\" alt=\"Open In Colab\"/></a>"
      ]
    },
    {
      "cell_type": "code",
      "metadata": {
        "id": "zfFGCibFC0u4"
      },
      "source": [
        "# Defining a factorial function for later\n",
        "def factorial(n):\n",
        "  if n <= 1:\n",
        "    return 1\n",
        "  else:\n",
        "    return n * factorial(n-1)"
      ],
      "execution_count": null,
      "outputs": []
    },
    {
      "cell_type": "markdown",
      "metadata": {
        "id": "q0ZZeQJqNPdM"
      },
      "source": [
        "# **Experiment 1**: Tossing a coin 100 number of times to observe the distribution of number of heads "
      ]
    },
    {
      "cell_type": "code",
      "metadata": {
        "colab": {
          "base_uri": "https://localhost:8080/",
          "height": 294
        },
        "id": "sb0zACjjHs9_",
        "outputId": "b704ca23-c9ea-4e5b-fdcc-f73d88f3b0a7"
      },
      "source": [
        "# Binomial Code Block\n",
        "n=100\n",
        "p=0.5\n",
        "\n",
        "# Getting our Probability Distribution \n",
        "l = []\n",
        "for i in range(n+1):\n",
        "  x = ((factorial(n))/((factorial(i) * factorial(n-i)))) * (p**i) * (p**(n-i))\n",
        "  l.append(x)\n",
        "\n",
        "# Getting our x values in form of a list \n",
        "l2 = []\n",
        "for i in range(n+1):\n",
        "  l2.append(i)\n",
        "\n",
        "# importing libraries \n",
        "import matplotlib.pyplot as plt\n",
        "import matplotlib.cm as cm\n",
        "import matplotlib.axes as ax\n",
        "\n",
        "# x and y values\n",
        "x_values = l2\n",
        "y_values = l\n",
        "\n",
        "# Plotting the figure\n",
        "plt.figure(figsize=(10,4))\n",
        "plt.bar(x_values,y_values)\n",
        "plt.xlabel('X')\n",
        "plt.ylabel('P(X = x)')\n",
        "plt.ticklabel_format(style='plain')\n",
        "plt.title('Binomial Distribution')\n",
        "plt.show()"
      ],
      "execution_count": null,
      "outputs": [
        {
          "output_type": "display_data",
          "data": {
            "image/png": "[encoded data removed]",
            "text/plain": [
              "<Figure size 720x288 with 1 Axes>"
            ]
          },
          "metadata": {
            "needs_background": "light"
          }
        }
      ]
    },
    {
      "cell_type": "markdown",
      "metadata": {
        "id": "1SAiFlFEQSEC"
      },
      "source": [
        "### As learned in theory the E[X] or the expected value of the number of heads we get in a fair coin toss as the number of tosses tend to 100 is around 50"
      ]
    },
    {
      "cell_type": "markdown",
      "metadata": {
        "id": "12gUbnWgQXzt"
      },
      "source": [
        "##**Experiment 2**: A Factory manufactures 100 guns our of which 10 guns are defective, if a random person buys 5 guns from the shop what is the probability distribution of the number of defective guns he can recieve."
      ]
    },
    {
      "cell_type": "code",
      "metadata": {
        "colab": {
          "base_uri": "https://localhost:8080/",
          "height": 330
        },
        "id": "LZDiv-0PNIo5",
        "outputId": "b68cd350-7d86-4ffd-8cfd-4cd6c5f33eb6"
      },
      "source": [
        "# Binomial Code Block\n",
        "n=5\n",
        "p=(10/100)\n",
        "\n",
        "# Getting our Probability Distribution \n",
        "l = []\n",
        "for i in range(n+1):\n",
        "  x = ((factorial(n))/((factorial(i) * factorial(n-i)))) * (p**i) * (p**(n-i))\n",
        "  l.append(x)\n",
        "print(l)\n",
        "\n",
        "# Getting our x values in form of a list \n",
        "l2 = []\n",
        "for i in range(n+1):\n",
        "  l2.append(i)\n",
        "print(l2)\n",
        "\n",
        "# importing libraries \n",
        "import matplotlib.pyplot as plt\n",
        "import matplotlib.cm as cm\n",
        "import matplotlib.axes as ax\n",
        "\n",
        "# x and y values\n",
        "x_values = l2\n",
        "y_values = l\n",
        "\n",
        "# Plotting the figure\n",
        "plt.figure(figsize=(10,4))\n",
        "plt.bar(x_values,y_values)\n",
        "plt.xlabel('X')\n",
        "plt.ylabel('P(X = x)')\n",
        "plt.ticklabel_format(style='plain')\n",
        "plt.title('Binomial Distribution')\n",
        "plt.show()"
      ],
      "execution_count": null,
      "outputs": [
        {
          "output_type": "stream",
          "name": "stdout",
          "text": [
            "[1.0000000000000003e-05, 5.000000000000001e-05, 0.00010000000000000005, 0.00010000000000000005, 5.0000000000000016e-05, 1.0000000000000003e-05]\n",
            "[0, 1, 2, 3, 4, 5]\n"
          ]
        },
        {
          "output_type": "display_data",
          "data": {
            "image/png": "[encoded data removed]",
            "text/plain": [
              "<Figure size 720x288 with 1 Axes>"
            ]
          },
          "metadata": {
            "needs_background": "light"
          }
        }
      ]
    },
    {
      "cell_type": "markdown",
      "metadata": {
        "id": "StwvWwMJRHL_"
      },
      "source": [
        "##We observe that the probabilites are very low at the extreme ends of the graph and peak at 2 and 3"
      ]
    }
  ]
}